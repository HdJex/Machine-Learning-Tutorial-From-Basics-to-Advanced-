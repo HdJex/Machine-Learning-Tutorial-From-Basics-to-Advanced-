{
 "cells": [
  {
   "cell_type": "markdown",
   "id": "6b0dffb1-d044-4dd3-b4d7-4fe50d8108bc",
   "metadata": {},
   "source": [
    "# Statistics for ML"
   ]
  },
  {
   "cell_type": "markdown",
   "id": "7b7e2bc5-94ea-4e28-8b86-d7b4cbb1fcd0",
   "metadata": {},
   "source": [
    " ## Measure of Central Tendency (Median, Mean, Mode)"
   ]
  },
  {
   "cell_type": "code",
   "execution_count": 2,
   "id": "b6fc7cc4-5bf1-46d7-8692-52a05fe8a873",
   "metadata": {},
   "outputs": [],
   "source": [
    "import numpy as np\n",
    "import pandas as pd\n",
    "import matplotlib.pyplot as plt\n",
    "import seaborn as sns\n",
    "import scipy.stats as st"
   ]
  },
  {
   "cell_type": "code",
   "execution_count": 3,
   "id": "105278e3-2f89-45e6-9a31-15d4e7bd9106",
   "metadata": {},
   "outputs": [
    {
     "data": {
      "text/html": [
       "<div>\n",
       "<style scoped>\n",
       "    .dataframe tbody tr th:only-of-type {\n",
       "        vertical-align: middle;\n",
       "    }\n",
       "\n",
       "    .dataframe tbody tr th {\n",
       "        vertical-align: top;\n",
       "    }\n",
       "\n",
       "    .dataframe thead th {\n",
       "        text-align: right;\n",
       "    }\n",
       "</style>\n",
       "<table border=\"1\" class=\"dataframe\">\n",
       "  <thead>\n",
       "    <tr style=\"text-align: right;\">\n",
       "      <th></th>\n",
       "      <th>PassengerId</th>\n",
       "      <th>Survived</th>\n",
       "      <th>Pclass</th>\n",
       "      <th>Name</th>\n",
       "      <th>Sex</th>\n",
       "      <th>Age</th>\n",
       "      <th>SibSp</th>\n",
       "      <th>Parch</th>\n",
       "      <th>Ticket</th>\n",
       "      <th>Fare</th>\n",
       "      <th>Cabin</th>\n",
       "      <th>Embarked</th>\n",
       "    </tr>\n",
       "  </thead>\n",
       "  <tbody>\n",
       "    <tr>\n",
       "      <th>0</th>\n",
       "      <td>892</td>\n",
       "      <td>0</td>\n",
       "      <td>3</td>\n",
       "      <td>Kelly, Mr. James</td>\n",
       "      <td>male</td>\n",
       "      <td>34.5</td>\n",
       "      <td>0</td>\n",
       "      <td>0</td>\n",
       "      <td>330911</td>\n",
       "      <td>7.8292</td>\n",
       "      <td>NaN</td>\n",
       "      <td>Q</td>\n",
       "    </tr>\n",
       "    <tr>\n",
       "      <th>1</th>\n",
       "      <td>893</td>\n",
       "      <td>1</td>\n",
       "      <td>3</td>\n",
       "      <td>Wilkes, Mrs. James (Ellen Needs)</td>\n",
       "      <td>female</td>\n",
       "      <td>47.0</td>\n",
       "      <td>1</td>\n",
       "      <td>0</td>\n",
       "      <td>363272</td>\n",
       "      <td>7.0000</td>\n",
       "      <td>NaN</td>\n",
       "      <td>S</td>\n",
       "    </tr>\n",
       "    <tr>\n",
       "      <th>2</th>\n",
       "      <td>894</td>\n",
       "      <td>0</td>\n",
       "      <td>2</td>\n",
       "      <td>Myles, Mr. Thomas Francis</td>\n",
       "      <td>male</td>\n",
       "      <td>62.0</td>\n",
       "      <td>0</td>\n",
       "      <td>0</td>\n",
       "      <td>240276</td>\n",
       "      <td>9.6875</td>\n",
       "      <td>NaN</td>\n",
       "      <td>Q</td>\n",
       "    </tr>\n",
       "    <tr>\n",
       "      <th>3</th>\n",
       "      <td>895</td>\n",
       "      <td>0</td>\n",
       "      <td>3</td>\n",
       "      <td>Wirz, Mr. Albert</td>\n",
       "      <td>male</td>\n",
       "      <td>27.0</td>\n",
       "      <td>0</td>\n",
       "      <td>0</td>\n",
       "      <td>315154</td>\n",
       "      <td>8.6625</td>\n",
       "      <td>NaN</td>\n",
       "      <td>S</td>\n",
       "    </tr>\n",
       "  </tbody>\n",
       "</table>\n",
       "</div>"
      ],
      "text/plain": [
       "   PassengerId  Survived  Pclass                              Name     Sex  \\\n",
       "0          892         0       3                  Kelly, Mr. James    male   \n",
       "1          893         1       3  Wilkes, Mrs. James (Ellen Needs)  female   \n",
       "2          894         0       2         Myles, Mr. Thomas Francis    male   \n",
       "3          895         0       3                  Wirz, Mr. Albert    male   \n",
       "\n",
       "    Age  SibSp  Parch  Ticket    Fare Cabin Embarked  \n",
       "0  34.5      0      0  330911  7.8292   NaN        Q  \n",
       "1  47.0      1      0  363272  7.0000   NaN        S  \n",
       "2  62.0      0      0  240276  9.6875   NaN        Q  \n",
       "3  27.0      0      0  315154  8.6625   NaN        S  "
      ]
     },
     "execution_count": 3,
     "metadata": {},
     "output_type": "execute_result"
    }
   ],
   "source": [
    "df = pd.read_csv(r\"C:\\Users\\User\\Desktop\\study material\\projects\\datasets\\Titanic Dataset\\tested.csv\")\n",
    "df.head(4)"
   ]
  },
  {
   "cell_type": "code",
   "execution_count": 10,
   "id": "d761300b-b03c-45a5-928c-da6e8a5824dd",
   "metadata": {},
   "outputs": [
    {
     "data": {
      "text/plain": [
       "PassengerId      0\n",
       "Survived         0\n",
       "Pclass           0\n",
       "Name             0\n",
       "Sex              0\n",
       "Age             86\n",
       "SibSp            0\n",
       "Parch            0\n",
       "Ticket           0\n",
       "Fare             1\n",
       "Cabin          327\n",
       "Embarked         0\n",
       "dtype: int64"
      ]
     },
     "execution_count": 10,
     "metadata": {},
     "output_type": "execute_result"
    }
   ],
   "source": [
    "df.isnull().sum()\n"
   ]
  },
  {
   "cell_type": "code",
   "execution_count": 4,
   "id": "0cd10756-773a-4169-b093-50d0f08b038f",
   "metadata": {},
   "outputs": [],
   "source": [
    "df[\"Age\"].fillna(df[\"Age\"].mean() , inplace = True)"
   ]
  },
  {
   "cell_type": "code",
   "execution_count": 12,
   "id": "e42e6e9d-06ef-4cc5-a098-a7a1f206e088",
   "metadata": {},
   "outputs": [
    {
     "data": {
      "text/plain": [
       "PassengerId      0\n",
       "Survived         0\n",
       "Pclass           0\n",
       "Name             0\n",
       "Sex              0\n",
       "Age              0\n",
       "SibSp            0\n",
       "Parch            0\n",
       "Ticket           0\n",
       "Fare             1\n",
       "Cabin          327\n",
       "Embarked         0\n",
       "dtype: int64"
      ]
     },
     "execution_count": 12,
     "metadata": {},
     "output_type": "execute_result"
    }
   ],
   "source": [
    "df.isnull().sum()"
   ]
  },
  {
   "cell_type": "code",
   "execution_count": 31,
   "id": "4d1d4498-c841-4264-8aa2-354ec3938d6d",
   "metadata": {},
   "outputs": [
    {
     "data": {
      "text/plain": [
       "30.272590361445783"
      ]
     },
     "execution_count": 31,
     "metadata": {},
     "output_type": "execute_result"
    }
   ],
   "source": [
    "df[\"Age\"].mean()                  # find the avg value               "
   ]
  },
  {
   "cell_type": "code",
   "execution_count": 30,
   "id": "d4d22365-f237-4d9d-ba01-a3449e29a243",
   "metadata": {},
   "outputs": [
    {
     "data": {
      "text/plain": [
       "30.272590361445783"
      ]
     },
     "execution_count": 30,
     "metadata": {},
     "output_type": "execute_result"
    }
   ],
   "source": [
    "df[\"Age\"].median()               # find the middlemost value"
   ]
  },
  {
   "cell_type": "code",
   "execution_count": 29,
   "id": "61fe00e1-c5f5-4762-8949-091b91545caa",
   "metadata": {},
   "outputs": [
    {
     "data": {
      "text/plain": [
       "<bound method Series.mode of 0      34.50000\n",
       "1      47.00000\n",
       "2      62.00000\n",
       "3      27.00000\n",
       "4      22.00000\n",
       "         ...   \n",
       "413    30.27259\n",
       "414    39.00000\n",
       "415    38.50000\n",
       "416    30.27259\n",
       "417    30.27259\n",
       "Name: Age, Length: 418, dtype: float64>"
      ]
     },
     "execution_count": 29,
     "metadata": {},
     "output_type": "execute_result"
    }
   ],
   "source": [
    "df[\"Age\"].mode                   # find the most occuring value"
   ]
  },
  {
   "cell_type": "code",
   "execution_count": 23,
   "id": "01328e83-9973-4b87-8a2c-7513df41e75a",
   "metadata": {},
   "outputs": [
    {
     "data": {
      "image/png": "[encoded data removed]",
      "text/plain": [
       "<Figure size 640x480 with 1 Axes>"
      ]
     },
     "metadata": {},
     "output_type": "display_data"
    }
   ],
   "source": [
    "sns.histplot(x= \"Age\", data=df, bins = [i for i in range(0,100,10)] , color = \"red\")\n",
    "plt.show()"
   ]
  },
  {
   "cell_type": "markdown",
   "id": "7decaa0e-a1ec-43b1-9702-ede9691b138e",
   "metadata": {},
   "source": [
    "## Measures of Variability  (range , standard deviation , varience)"
   ]
  },
  {
   "cell_type": "code",
   "execution_count": 34,
   "id": "1d1e541b-8082-4450-92ef-bcfb9fbdfc28",
   "metadata": {},
   "outputs": [],
   "source": [
    " min_r = df[\"Age\"].min()   \n",
    "max_r = df[\"Age\"].max()"
   ]
  },
  {
   "cell_type": "code",
   "execution_count": 36,
   "id": "e3964ce4-42ac-4fad-9341-2c0314e01238",
   "metadata": {},
   "outputs": [
    {
     "name": "stdout",
     "output_type": "stream",
     "text": [
      "75.83\n"
     ]
    }
   ],
   "source": [
    "range =  max_r - min_r\n",
    "print(range)             # range = max value - min value   "
   ]
  },
  {
   "cell_type": "code",
   "execution_count": 38,
   "id": "bc30556c-0dd3-4bee-8156-013c8e3f5a98",
   "metadata": {},
   "outputs": [],
   "source": [
    "# mean absolute deviation  = avg distance between data points and mean\n",
    "\n",
    "a = np.array([75,70,63,68,72,67])\n",
    "b = np.array([90,47,43,96,93,51])"
   ]
  },
  {
   "cell_type": "code",
   "execution_count": 40,
   "id": "f04c961d-5e03-4050-9086-17a22262a4bd",
   "metadata": {},
   "outputs": [
    {
     "data": {
      "text/plain": [
       "70.0"
      ]
     },
     "execution_count": 40,
     "metadata": {},
     "output_type": "execute_result"
    }
   ],
   "source": [
    "mean = np.mean(b)\n",
    "mean"
   ]
  },
  {
   "cell_type": "code",
   "execution_count": 44,
   "id": "69717b39-3dbc-419c-b54f-586cc5ef7915",
   "metadata": {},
   "outputs": [],
   "source": [
    "mad_a = np.sum(np.abs(a-mean))/len(a)\n",
    "mad_b = np.sum(np.abs(b-mean))/len(b)\n"
   ]
  },
  {
   "cell_type": "code",
   "execution_count": 46,
   "id": "51a64892-6d9a-428c-bd32-03d781e376b0",
   "metadata": {},
   "outputs": [
    {
     "data": {
      "text/plain": [
       "(3.1666666666666665, 23.0)"
      ]
     },
     "execution_count": 46,
     "metadata": {},
     "output_type": "execute_result"
    }
   ],
   "source": [
    "mad_a , mad_b              # use data which has low mad"
   ]
  },
  {
   "cell_type": "code",
   "execution_count": 48,
   "id": "52ae3dd4-9dc3-484c-a571-c8bbe83f3375",
   "metadata": {},
   "outputs": [
    {
     "data": {
      "text/plain": [
       "(14.472222222222227, 537.3333333333334)"
      ]
     },
     "execution_count": 48,
     "metadata": {},
     "output_type": "execute_result"
    }
   ],
   "source": [
    "# variance = measure of diffrence between data point and mean\n",
    "\n",
    "np.var(a) , np.var(b)\n"
   ]
  },
  {
   "cell_type": "code",
   "execution_count": 49,
   "id": "a30a2a4a-7e71-4ea8-9770-e062c6c63d48",
   "metadata": {},
   "outputs": [
    {
     "data": {
      "text/plain": [
       "(3.8042374035044433, 23.18045153428495)"
      ]
     },
     "execution_count": 49,
     "metadata": {},
     "output_type": "execute_result"
    }
   ],
   "source": [
    "#  standard deviation\n",
    "\n",
    "np.std(a) , np.std(b)"
   ]
  },
  {
   "cell_type": "code",
   "execution_count": 50,
   "id": "9ce9e0c1-6d3a-423c-ac98-804c1fc1e292",
   "metadata": {},
   "outputs": [
    {
     "data": {
      "text/html": [
       "<div>\n",
       "<style scoped>\n",
       "    .dataframe tbody tr th:only-of-type {\n",
       "        vertical-align: middle;\n",
       "    }\n",
       "\n",
       "    .dataframe tbody tr th {\n",
       "        vertical-align: top;\n",
       "    }\n",
       "\n",
       "    .dataframe thead th {\n",
       "        text-align: right;\n",
       "    }\n",
       "</style>\n",
       "<table border=\"1\" class=\"dataframe\">\n",
       "  <thead>\n",
       "    <tr style=\"text-align: right;\">\n",
       "      <th></th>\n",
       "      <th>PassengerId</th>\n",
       "      <th>Survived</th>\n",
       "      <th>Pclass</th>\n",
       "      <th>Age</th>\n",
       "      <th>SibSp</th>\n",
       "      <th>Parch</th>\n",
       "      <th>Fare</th>\n",
       "    </tr>\n",
       "  </thead>\n",
       "  <tbody>\n",
       "    <tr>\n",
       "      <th>count</th>\n",
       "      <td>418.000000</td>\n",
       "      <td>418.000000</td>\n",
       "      <td>418.000000</td>\n",
       "      <td>418.000000</td>\n",
       "      <td>418.000000</td>\n",
       "      <td>418.000000</td>\n",
       "      <td>417.000000</td>\n",
       "    </tr>\n",
       "    <tr>\n",
       "      <th>mean</th>\n",
       "      <td>1100.500000</td>\n",
       "      <td>0.363636</td>\n",
       "      <td>2.265550</td>\n",
       "      <td>30.272590</td>\n",
       "      <td>0.447368</td>\n",
       "      <td>0.392344</td>\n",
       "      <td>35.627188</td>\n",
       "    </tr>\n",
       "    <tr>\n",
       "      <th>std</th>\n",
       "      <td>120.810458</td>\n",
       "      <td>0.481622</td>\n",
       "      <td>0.841838</td>\n",
       "      <td>12.634534</td>\n",
       "      <td>0.896760</td>\n",
       "      <td>0.981429</td>\n",
       "      <td>55.907576</td>\n",
       "    </tr>\n",
       "    <tr>\n",
       "      <th>min</th>\n",
       "      <td>892.000000</td>\n",
       "      <td>0.000000</td>\n",
       "      <td>1.000000</td>\n",
       "      <td>0.170000</td>\n",
       "      <td>0.000000</td>\n",
       "      <td>0.000000</td>\n",
       "      <td>0.000000</td>\n",
       "    </tr>\n",
       "    <tr>\n",
       "      <th>25%</th>\n",
       "      <td>996.250000</td>\n",
       "      <td>0.000000</td>\n",
       "      <td>1.000000</td>\n",
       "      <td>23.000000</td>\n",
       "      <td>0.000000</td>\n",
       "      <td>0.000000</td>\n",
       "      <td>7.895800</td>\n",
       "    </tr>\n",
       "    <tr>\n",
       "      <th>50%</th>\n",
       "      <td>1100.500000</td>\n",
       "      <td>0.000000</td>\n",
       "      <td>3.000000</td>\n",
       "      <td>30.272590</td>\n",
       "      <td>0.000000</td>\n",
       "      <td>0.000000</td>\n",
       "      <td>14.454200</td>\n",
       "    </tr>\n",
       "    <tr>\n",
       "      <th>75%</th>\n",
       "      <td>1204.750000</td>\n",
       "      <td>1.000000</td>\n",
       "      <td>3.000000</td>\n",
       "      <td>35.750000</td>\n",
       "      <td>1.000000</td>\n",
       "      <td>0.000000</td>\n",
       "      <td>31.500000</td>\n",
       "    </tr>\n",
       "    <tr>\n",
       "      <th>max</th>\n",
       "      <td>1309.000000</td>\n",
       "      <td>1.000000</td>\n",
       "      <td>3.000000</td>\n",
       "      <td>76.000000</td>\n",
       "      <td>8.000000</td>\n",
       "      <td>9.000000</td>\n",
       "      <td>512.329200</td>\n",
       "    </tr>\n",
       "  </tbody>\n",
       "</table>\n",
       "</div>"
      ],
      "text/plain": [
       "       PassengerId    Survived      Pclass         Age       SibSp  \\\n",
       "count   418.000000  418.000000  418.000000  418.000000  418.000000   \n",
       "mean   1100.500000    0.363636    2.265550   30.272590    0.447368   \n",
       "std     120.810458    0.481622    0.841838   12.634534    0.896760   \n",
       "min     892.000000    0.000000    1.000000    0.170000    0.000000   \n",
       "25%     996.250000    0.000000    1.000000   23.000000    0.000000   \n",
       "50%    1100.500000    0.000000    3.000000   30.272590    0.000000   \n",
       "75%    1204.750000    1.000000    3.000000   35.750000    1.000000   \n",
       "max    1309.000000    1.000000    3.000000   76.000000    8.000000   \n",
       "\n",
       "            Parch        Fare  \n",
       "count  418.000000  417.000000  \n",
       "mean     0.392344   35.627188  \n",
       "std      0.981429   55.907576  \n",
       "min      0.000000    0.000000  \n",
       "25%      0.000000    7.895800  \n",
       "50%      0.000000   14.454200  \n",
       "75%      0.000000   31.500000  \n",
       "max      9.000000  512.329200  "
      ]
     },
     "execution_count": 50,
     "metadata": {},
     "output_type": "execute_result"
    }
   ],
   "source": [
    "df.describe()"
   ]
  },
  {
   "cell_type": "markdown",
   "id": "aab3fa4f-1f96-4844-8dea-808e576aa69e",
   "metadata": {},
   "source": [
    "###  note: lowest value is considered"
   ]
  },
  {
   "cell_type": "markdown",
   "id": "0aa47c3f-bf5d-4c4c-ace2-7c28b475ceac",
   "metadata": {},
   "source": [
    " ## Percentage, Percentiles, and Quartiles"
   ]
  },
  {
   "cell_type": "code",
   "execution_count": 56,
   "id": "90630a2d-23df-4d5c-b6cb-adb270b993d0",
   "metadata": {},
   "outputs": [
    {
     "data": {
      "text/plain": [
       "21.0"
      ]
     },
     "execution_count": 56,
     "metadata": {},
     "output_type": "execute_result"
    }
   ],
   "source": [
    "# percentiles\n",
    "\n",
    "np.percentile(df[\"Age\"],20)\n"
   ]
  },
  {
   "cell_type": "code",
   "execution_count": 57,
   "id": "ddb599b3-6e6e-4203-a245-488ba49c74a4",
   "metadata": {},
   "outputs": [
    {
     "data": {
      "image/png": "[encoded data removed]",
      "text/plain": [
       "<Figure size 640x480 with 1 Axes>"
      ]
     },
     "metadata": {},
     "output_type": "display_data"
    }
   ],
   "source": [
    "sns.boxplot(x=\"Age\", data =df)\n",
    "plt.show()                                     # it shows Q1,Q2,MEDIAN,Q3"
   ]
  },
  {
   "cell_type": "markdown",
   "id": "b4d95743-9a2d-4547-ab91-defdc400dbde",
   "metadata": {},
   "source": [
    "### Note: you can use data.describe() to get all values"
   ]
  },
  {
   "cell_type": "markdown",
   "id": "03a2e038-0ba9-4c6e-95fc-ed443cd2c601",
   "metadata": {},
   "source": [
    "## Measure of shape         ( skewness)"
   ]
  },
  {
   "cell_type": "code",
   "execution_count": 58,
   "id": "64a86329-bc61-40d3-95a8-73a11dc32929",
   "metadata": {},
   "outputs": [
    {
     "data": {
      "image/png": "[encoded data removed]",
      "text/plain": [
       "<Figure size 640x480 with 1 Axes>"
      ]
     },
     "metadata": {},
     "output_type": "display_data"
    }
   ],
   "source": [
    "# skewness - measure the asymmetry of disrtibution \n",
    "\n",
    "sns.histplot(x=\"Age\", data= df)\n",
    "plt.show()"
   ]
  },
  {
   "cell_type": "code",
   "execution_count": 61,
   "id": "6e949e46-2f87-4a15-8a37-8aff9087587e",
   "metadata": {},
   "outputs": [
    {
     "data": {
      "text/plain": [
       "0.5127105327530369"
      ]
     },
     "execution_count": 61,
     "metadata": {},
     "output_type": "execute_result"
    }
   ],
   "source": [
    "df[\"Age\"].skew()         # positively skewed"
   ]
  },
  {
   "cell_type": "markdown",
   "id": "7d608fa8-3dbc-43c9-b33a-7c600e6fa0f6",
   "metadata": {},
   "source": [
    "## Covariance and Correlation"
   ]
  },
  {
   "cell_type": "code",
   "execution_count": 5,
   "id": "85603951-07d7-4e27-9e87-68dde4007a11",
   "metadata": {},
   "outputs": [
    {
     "data": {
      "text/plain": [
       "PassengerId      0\n",
       "Survived         0\n",
       "Pclass           0\n",
       "Name             0\n",
       "Sex              0\n",
       "Age              0\n",
       "SibSp            0\n",
       "Parch            0\n",
       "Ticket           0\n",
       "Fare             1\n",
       "Cabin          327\n",
       "Embarked         0\n",
       "dtype: int64"
      ]
     },
     "execution_count": 5,
     "metadata": {},
     "output_type": "execute_result"
    }
   ],
   "source": [
    "df.isnull().sum()"
   ]
  },
  {
   "cell_type": "code",
   "execution_count": 6,
   "id": "ae8a3e8c-2d00-41c1-9321-ab8ac29e740c",
   "metadata": {},
   "outputs": [
    {
     "name": "stdout",
     "output_type": "stream",
     "text": [
      "<class 'pandas.core.frame.DataFrame'>\n",
      "RangeIndex: 418 entries, 0 to 417\n",
      "Data columns (total 12 columns):\n",
      " #   Column       Non-Null Count  Dtype  \n",
      "---  ------       --------------  -----  \n",
      " 0   PassengerId  418 non-null    int64  \n",
      " 1   Survived     418 non-null    int64  \n",
      " 2   Pclass       418 non-null    int64  \n",
      " 3   Name         418 non-null    object \n",
      " 4   Sex          418 non-null    object \n",
      " 5   Age          418 non-null    float64\n",
      " 6   SibSp        418 non-null    int64  \n",
      " 7   Parch        418 non-null    int64  \n",
      " 8   Ticket       418 non-null    object \n",
      " 9   Fare         417 non-null    float64\n",
      " 10  Cabin        91 non-null     object \n",
      " 11  Embarked     418 non-null    object \n",
      "dtypes: float64(2), int64(5), object(5)\n",
      "memory usage: 39.3+ KB\n"
     ]
    }
   ],
   "source": [
    "df.info()"
   ]
  },
  {
   "cell_type": "code",
   "execution_count": 12,
   "id": "54f88000-49fe-49be-8f9b-3eeb1aea8089",
   "metadata": {},
   "outputs": [
    {
     "data": {
      "text/html": [
       "<div>\n",
       "<style scoped>\n",
       "    .dataframe tbody tr th:only-of-type {\n",
       "        vertical-align: middle;\n",
       "    }\n",
       "\n",
       "    .dataframe tbody tr th {\n",
       "        vertical-align: top;\n",
       "    }\n",
       "\n",
       "    .dataframe thead th {\n",
       "        text-align: right;\n",
       "    }\n",
       "</style>\n",
       "<table border=\"1\" class=\"dataframe\">\n",
       "  <thead>\n",
       "    <tr style=\"text-align: right;\">\n",
       "      <th></th>\n",
       "      <th>PassengerId</th>\n",
       "      <th>Survived</th>\n",
       "      <th>Pclass</th>\n",
       "      <th>Age</th>\n",
       "      <th>SibSp</th>\n",
       "      <th>Parch</th>\n",
       "      <th>Fare</th>\n",
       "    </tr>\n",
       "  </thead>\n",
       "  <tbody>\n",
       "    <tr>\n",
       "      <th>PassengerId</th>\n",
       "      <td>1.000000</td>\n",
       "      <td>-0.023245</td>\n",
       "      <td>-0.026751</td>\n",
       "      <td>-0.030874</td>\n",
       "      <td>0.003818</td>\n",
       "      <td>0.043080</td>\n",
       "      <td>0.008211</td>\n",
       "    </tr>\n",
       "    <tr>\n",
       "      <th>Survived</th>\n",
       "      <td>-0.023245</td>\n",
       "      <td>1.000000</td>\n",
       "      <td>-0.108615</td>\n",
       "      <td>-0.000011</td>\n",
       "      <td>0.099943</td>\n",
       "      <td>0.159120</td>\n",
       "      <td>0.191514</td>\n",
       "    </tr>\n",
       "    <tr>\n",
       "      <th>Pclass</th>\n",
       "      <td>-0.026751</td>\n",
       "      <td>-0.108615</td>\n",
       "      <td>1.000000</td>\n",
       "      <td>-0.440782</td>\n",
       "      <td>0.001087</td>\n",
       "      <td>0.018721</td>\n",
       "      <td>-0.577147</td>\n",
       "    </tr>\n",
       "    <tr>\n",
       "      <th>Age</th>\n",
       "      <td>-0.030874</td>\n",
       "      <td>-0.000011</td>\n",
       "      <td>-0.440782</td>\n",
       "      <td>1.000000</td>\n",
       "      <td>-0.079535</td>\n",
       "      <td>-0.045073</td>\n",
       "      <td>0.329071</td>\n",
       "    </tr>\n",
       "    <tr>\n",
       "      <th>SibSp</th>\n",
       "      <td>0.003818</td>\n",
       "      <td>0.099943</td>\n",
       "      <td>0.001087</td>\n",
       "      <td>-0.079535</td>\n",
       "      <td>1.000000</td>\n",
       "      <td>0.306895</td>\n",
       "      <td>0.171539</td>\n",
       "    </tr>\n",
       "    <tr>\n",
       "      <th>Parch</th>\n",
       "      <td>0.043080</td>\n",
       "      <td>0.159120</td>\n",
       "      <td>0.018721</td>\n",
       "      <td>-0.045073</td>\n",
       "      <td>0.306895</td>\n",
       "      <td>1.000000</td>\n",
       "      <td>0.230046</td>\n",
       "    </tr>\n",
       "    <tr>\n",
       "      <th>Fare</th>\n",
       "      <td>0.008211</td>\n",
       "      <td>0.191514</td>\n",
       "      <td>-0.577147</td>\n",
       "      <td>0.329071</td>\n",
       "      <td>0.171539</td>\n",
       "      <td>0.230046</td>\n",
       "      <td>1.000000</td>\n",
       "    </tr>\n",
       "  </tbody>\n",
       "</table>\n",
       "</div>"
      ],
      "text/plain": [
       "             PassengerId  Survived    Pclass       Age     SibSp     Parch  \\\n",
       "PassengerId     1.000000 -0.023245 -0.026751 -0.030874  0.003818  0.043080   \n",
       "Survived       -0.023245  1.000000 -0.108615 -0.000011  0.099943  0.159120   \n",
       "Pclass         -0.026751 -0.108615  1.000000 -0.440782  0.001087  0.018721   \n",
       "Age            -0.030874 -0.000011 -0.440782  1.000000 -0.079535 -0.045073   \n",
       "SibSp           0.003818  0.099943  0.001087 -0.079535  1.000000  0.306895   \n",
       "Parch           0.043080  0.159120  0.018721 -0.045073  0.306895  1.000000   \n",
       "Fare            0.008211  0.191514 -0.577147  0.329071  0.171539  0.230046   \n",
       "\n",
       "                 Fare  \n",
       "PassengerId  0.008211  \n",
       "Survived     0.191514  \n",
       "Pclass      -0.577147  \n",
       "Age          0.329071  \n",
       "SibSp        0.171539  \n",
       "Parch        0.230046  \n",
       "Fare         1.000000  "
      ]
     },
     "execution_count": 12,
     "metadata": {},
     "output_type": "execute_result"
    }
   ],
   "source": [
    "\n",
    "# corelation = it is the strength of relation between 2 variables\n",
    "data_cor = df.select_dtypes([\"float64\",\"int64\"]).corr()\n",
    "data_cor"
   ]
  },
  {
   "cell_type": "code",
   "execution_count": 16,
   "id": "e5c0916d-f4aa-4ec9-beea-7d4f1c5aad0e",
   "metadata": {},
   "outputs": [
    {
     "data": {
      "text/html": [
       "<div>\n",
       "<style scoped>\n",
       "    .dataframe tbody tr th:only-of-type {\n",
       "        vertical-align: middle;\n",
       "    }\n",
       "\n",
       "    .dataframe tbody tr th {\n",
       "        vertical-align: top;\n",
       "    }\n",
       "\n",
       "    .dataframe thead th {\n",
       "        text-align: right;\n",
       "    }\n",
       "</style>\n",
       "<table border=\"1\" class=\"dataframe\">\n",
       "  <thead>\n",
       "    <tr style=\"text-align: right;\">\n",
       "      <th></th>\n",
       "      <th>PassengerId</th>\n",
       "      <th>Survived</th>\n",
       "      <th>Pclass</th>\n",
       "      <th>Age</th>\n",
       "      <th>SibSp</th>\n",
       "      <th>Parch</th>\n",
       "      <th>Fare</th>\n",
       "    </tr>\n",
       "  </thead>\n",
       "  <tbody>\n",
       "    <tr>\n",
       "      <th>PassengerId</th>\n",
       "      <td>14595.166667</td>\n",
       "      <td>-1.352518</td>\n",
       "      <td>-2.720624</td>\n",
       "      <td>-47.125070</td>\n",
       "      <td>0.413669</td>\n",
       "      <td>5.107914</td>\n",
       "      <td>55.514238</td>\n",
       "    </tr>\n",
       "    <tr>\n",
       "      <th>Survived</th>\n",
       "      <td>-1.352518</td>\n",
       "      <td>0.231960</td>\n",
       "      <td>-0.044037</td>\n",
       "      <td>-0.000069</td>\n",
       "      <td>0.043165</td>\n",
       "      <td>0.075213</td>\n",
       "      <td>5.159417</td>\n",
       "    </tr>\n",
       "    <tr>\n",
       "      <th>Pclass</th>\n",
       "      <td>-2.720624</td>\n",
       "      <td>-0.044037</td>\n",
       "      <td>0.708690</td>\n",
       "      <td>-4.688260</td>\n",
       "      <td>0.000820</td>\n",
       "      <td>0.015467</td>\n",
       "      <td>-27.171232</td>\n",
       "    </tr>\n",
       "    <tr>\n",
       "      <th>Age</th>\n",
       "      <td>-47.125070</td>\n",
       "      <td>-0.000069</td>\n",
       "      <td>-4.688260</td>\n",
       "      <td>159.631454</td>\n",
       "      <td>-0.901138</td>\n",
       "      <td>-0.558902</td>\n",
       "      <td>231.117492</td>\n",
       "    </tr>\n",
       "    <tr>\n",
       "      <th>SibSp</th>\n",
       "      <td>0.413669</td>\n",
       "      <td>0.043165</td>\n",
       "      <td>0.000820</td>\n",
       "      <td>-0.901138</td>\n",
       "      <td>0.804178</td>\n",
       "      <td>0.270100</td>\n",
       "      <td>8.607981</td>\n",
       "    </tr>\n",
       "    <tr>\n",
       "      <th>Parch</th>\n",
       "      <td>5.107914</td>\n",
       "      <td>0.075213</td>\n",
       "      <td>0.015467</td>\n",
       "      <td>-0.558902</td>\n",
       "      <td>0.270100</td>\n",
       "      <td>0.963203</td>\n",
       "      <td>12.635175</td>\n",
       "    </tr>\n",
       "    <tr>\n",
       "      <th>Fare</th>\n",
       "      <td>55.514238</td>\n",
       "      <td>5.159417</td>\n",
       "      <td>-27.171232</td>\n",
       "      <td>231.117492</td>\n",
       "      <td>8.607981</td>\n",
       "      <td>12.635175</td>\n",
       "      <td>3125.657074</td>\n",
       "    </tr>\n",
       "  </tbody>\n",
       "</table>\n",
       "</div>"
      ],
      "text/plain": [
       "              PassengerId  Survived     Pclass         Age     SibSp  \\\n",
       "PassengerId  14595.166667 -1.352518  -2.720624  -47.125070  0.413669   \n",
       "Survived        -1.352518  0.231960  -0.044037   -0.000069  0.043165   \n",
       "Pclass          -2.720624 -0.044037   0.708690   -4.688260  0.000820   \n",
       "Age            -47.125070 -0.000069  -4.688260  159.631454 -0.901138   \n",
       "SibSp            0.413669  0.043165   0.000820   -0.901138  0.804178   \n",
       "Parch            5.107914  0.075213   0.015467   -0.558902  0.270100   \n",
       "Fare            55.514238  5.159417 -27.171232  231.117492  8.607981   \n",
       "\n",
       "                 Parch         Fare  \n",
       "PassengerId   5.107914    55.514238  \n",
       "Survived      0.075213     5.159417  \n",
       "Pclass        0.015467   -27.171232  \n",
       "Age          -0.558902   231.117492  \n",
       "SibSp         0.270100     8.607981  \n",
       "Parch         0.963203    12.635175  \n",
       "Fare         12.635175  3125.657074  "
      ]
     },
     "execution_count": 16,
     "metadata": {},
     "output_type": "execute_result"
    }
   ],
   "source": [
    "#  covariance is the linear relation between 2 variables\n",
    "data_cov = df.select_dtypes([\"float64\",\"int64\"]).cov()\n",
    "data_cov "
   ]
  },
  {
   "cell_type": "code",
   "execution_count": 14,
   "id": "62f51564-7756-4d5e-86bf-c16a3010990e",
   "metadata": {},
   "outputs": [
    {
     "data": {
      "image/png": "[encoded data removed]",
      "text/plain": [
       "<Figure size 640x480 with 2 Axes>"
      ]
     },
     "metadata": {},
     "output_type": "display_data"
    }
   ],
   "source": [
    "sns.heatmap(data = data_cor , annot = True)\n",
    "plt.show()"
   ]
  },
  {
   "cell_type": "code",
   "execution_count": 17,
   "id": "1a70adff-5d82-4d83-a6a6-a32b15db8238",
   "metadata": {},
   "outputs": [
    {
     "data": {
      "image/png": "[encoded data removed]",
      "text/plain": [
       "<Figure size 640x480 with 2 Axes>"
      ]
     },
     "metadata": {},
     "output_type": "display_data"
    }
   ],
   "source": [
    "sns.heatmap(data = data_cov , annot = True)\n",
    "plt.show()"
   ]
  },
  {
   "cell_type": "markdown",
   "id": "cce3454b-5a46-4ec6-9595-004992a10235",
   "metadata": {},
   "source": [
    "## Central Limit Theorem"
   ]
  },
  {
   "cell_type": "markdown",
   "id": "09cd647f-b240-49b7-9140-61fc93c3fe77",
   "metadata": {},
   "source": [
    "#### When independent random variables are added, their normalized sum tends toward a normal distribution (Gaussian distribution) as the number of variables grows, regardless of the original distribution of the variables.\""
   ]
  },
  {
   "cell_type": "code",
   "execution_count": 23,
   "id": "8b65f7c8-4f48-436d-afc9-b0186125a094",
   "metadata": {},
   "outputs": [
    {
     "data": {
      "text/html": [
       "<div>\n",
       "<style scoped>\n",
       "    .dataframe tbody tr th:only-of-type {\n",
       "        vertical-align: middle;\n",
       "    }\n",
       "\n",
       "    .dataframe tbody tr th {\n",
       "        vertical-align: top;\n",
       "    }\n",
       "\n",
       "    .dataframe thead th {\n",
       "        text-align: right;\n",
       "    }\n",
       "</style>\n",
       "<table border=\"1\" class=\"dataframe\">\n",
       "  <thead>\n",
       "    <tr style=\"text-align: right;\">\n",
       "      <th></th>\n",
       "      <th>pop_data</th>\n",
       "    </tr>\n",
       "  </thead>\n",
       "  <tbody>\n",
       "    <tr>\n",
       "      <th>0</th>\n",
       "      <td>21</td>\n",
       "    </tr>\n",
       "    <tr>\n",
       "      <th>1</th>\n",
       "      <td>97</td>\n",
       "    </tr>\n",
       "    <tr>\n",
       "      <th>2</th>\n",
       "      <td>18</td>\n",
       "    </tr>\n",
       "    <tr>\n",
       "      <th>3</th>\n",
       "      <td>85</td>\n",
       "    </tr>\n",
       "    <tr>\n",
       "      <th>4</th>\n",
       "      <td>12</td>\n",
       "    </tr>\n",
       "    <tr>\n",
       "      <th>...</th>\n",
       "      <td>...</td>\n",
       "    </tr>\n",
       "    <tr>\n",
       "      <th>9995</th>\n",
       "      <td>66</td>\n",
       "    </tr>\n",
       "    <tr>\n",
       "      <th>9996</th>\n",
       "      <td>68</td>\n",
       "    </tr>\n",
       "    <tr>\n",
       "      <th>9997</th>\n",
       "      <td>50</td>\n",
       "    </tr>\n",
       "    <tr>\n",
       "      <th>9998</th>\n",
       "      <td>83</td>\n",
       "    </tr>\n",
       "    <tr>\n",
       "      <th>9999</th>\n",
       "      <td>22</td>\n",
       "    </tr>\n",
       "  </tbody>\n",
       "</table>\n",
       "<p>10000 rows × 1 columns</p>\n",
       "</div>"
      ],
      "text/plain": [
       "      pop_data\n",
       "0           21\n",
       "1           97\n",
       "2           18\n",
       "3           85\n",
       "4           12\n",
       "...        ...\n",
       "9995        66\n",
       "9996        68\n",
       "9997        50\n",
       "9998        83\n",
       "9999        22\n",
       "\n",
       "[10000 rows x 1 columns]"
      ]
     },
     "execution_count": 23,
     "metadata": {},
     "output_type": "execute_result"
    }
   ],
   "source": [
    "pop_data = [np.random.randint(10,100) for i in range(10000)]\n",
    "pop_table = pd.DataFrame({\"pop_data\":pop_data})\n",
    "pop_table"
   ]
  },
  {
   "cell_type": "code",
   "execution_count": 25,
   "id": "6115888e-e440-4a91-ae29-091393d02ea4",
   "metadata": {},
   "outputs": [
    {
     "data": {
      "image/png": "[encoded data removed]",
      "text/plain": [
       "<Figure size 640x480 with 1 Axes>"
      ]
     },
     "metadata": {},
     "output_type": "display_data"
    }
   ],
   "source": [
    "sns.kdeplot(x=\"pop_data\", data=pop_table)\n",
    "plt.show()"
   ]
  },
  {
   "cell_type": "code",
   "execution_count": 28,
   "id": "9075abbb-95da-48aa-9942-e74744ae9728",
   "metadata": {},
   "outputs": [],
   "source": [
    "sam_mean = []\n",
    "for no_sample in range(50):\n",
    "    sample_data= []\n",
    "    for i in range(500):\n",
    "        sample_data.append(np.random.choice(pop_data))\n",
    "    sam_mean.append(np.mean(sample_data))"
   ]
  },
  {
   "cell_type": "code",
   "execution_count": 29,
   "id": "ba5030cd-5207-4c7e-afbc-dcdec81e3a1b",
   "metadata": {},
   "outputs": [],
   "source": [
    "sample_m = pd.DataFrame({\"sam_mean\":sam_mean})\n"
   ]
  },
  {
   "cell_type": "code",
   "execution_count": 30,
   "id": "0dd5a1c4-11b6-4146-a0a1-d5bd850b88e6",
   "metadata": {},
   "outputs": [
    {
     "data": {
      "image/png": "[encoded data removed]",
      "text/plain": [
       "<Figure size 640x480 with 1 Axes>"
      ]
     },
     "metadata": {},
     "output_type": "display_data"
    }
   ],
   "source": [
    "sns.kdeplot(x=\"sam_mean\", data=sample_m)\n",
    "plt.show()"
   ]
  },
  {
   "cell_type": "markdown",
   "id": "f93c1305-7cca-4289-b532-c3606f7568e3",
   "metadata": {},
   "source": [
    "## Hypothesis Testing ( Z test)"
   ]
  },
  {
   "cell_type": "code",
   "execution_count": 5,
   "id": "92ce17c7-e554-4fd7-a044-87fb41e8a47f",
   "metadata": {},
   "outputs": [
    {
     "data": {
      "text/plain": [
       "1.6953977102721358"
      ]
     },
     "execution_count": 5,
     "metadata": {},
     "output_type": "execute_result"
    }
   ],
   "source": [
    "st.norm.ppf(0.955)"
   ]
  },
  {
   "cell_type": "code",
   "execution_count": 6,
   "id": "7c9bff44-b0d6-43af-8348-f1d336678173",
   "metadata": {},
   "outputs": [],
   "source": [
    "x = 90 \n",
    "u = 82\n",
    "p_std = 20\n",
    "n = 81\n",
    "ap = 0.05"
   ]
  },
  {
   "cell_type": "code",
   "execution_count": 7,
   "id": "9a698528-88c9-4137-8638-2cf29fb090ad",
   "metadata": {},
   "outputs": [
    {
     "data": {
      "text/plain": [
       "3.5999999999999996"
      ]
     },
     "execution_count": 7,
     "metadata": {},
     "output_type": "execute_result"
    }
   ],
   "source": [
    "z_cal = (x-u)/(p_std/np.sqrt(n))\n",
    "z_cal"
   ]
  },
  {
   "cell_type": "code",
   "execution_count": 9,
   "id": "3cd94991-ad97-4313-86c6-72b9b7a93d36",
   "metadata": {},
   "outputs": [
    {
     "data": {
      "text/plain": [
       "1.6448536269514722"
      ]
     },
     "execution_count": 9,
     "metadata": {},
     "output_type": "execute_result"
    }
   ],
   "source": [
    "z_table = st.norm.ppf(1-ap)\n",
    "z_table"
   ]
  }
 ],
 "metadata": {
  "kernelspec": {
   "display_name": "Python 3 (ipykernel)",
   "language": "python",
   "name": "python3"
  },
  "language_info": {
   "codemirror_mode": {
    "name": "ipython",
    "version": 3
   },
   "file_extension": ".py",
   "mimetype": "text/x-python",
   "name": "python",
   "nbconvert_exporter": "python",
   "pygments_lexer": "ipython3",
   "version": "3.11.3"
  }
 },
 "nbformat": 4,
 "nbformat_minor": 5
}
